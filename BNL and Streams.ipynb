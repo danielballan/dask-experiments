{
 "cells": [
  {
   "cell_type": "markdown",
   "metadata": {},
   "source": [
    "## Stream"
   ]
  },
  {
   "cell_type": "markdown",
   "metadata": {},
   "source": [
    "## Review the Streams blog post..."
   ]
  },
  {
   "cell_type": "code",
   "execution_count": 49,
   "metadata": {},
   "outputs": [],
   "source": [
    "from streams import Stream, combine_latest\n",
    "source = Stream()\n",
    "from operator import add, sub, mul"
   ]
  },
  {
   "cell_type": "code",
   "execution_count": 5,
   "metadata": {
    "collapsed": true
   },
   "outputs": [],
   "source": [
    "inc = lambda x: x + 1\n",
    "isodd = lambda x: bool(x % 2)\n",
    "iseven = lambda x: not isodd(x)"
   ]
  },
  {
   "cell_type": "code",
   "execution_count": 46,
   "metadata": {},
   "outputs": [],
   "source": [
    "s = source.map(inc)\n",
    "evens = s.filter(iseven)\n",
    "even_total = evens.accumulate(add)\n",
    "\n",
    "odds = s.filter(isodd)\n",
    "odd_total = odds.accumulate(sub)\n",
    "\n",
    "s2 = combine_latest(odd_total, even_total).map(print)"
   ]
  },
  {
   "cell_type": "markdown",
   "metadata": {},
   "source": [
    "## Handle functions that expect multiple arguments\n",
    "\n",
    "We could formulate all our functions to take in dictionaries and extract the keys that they need, but that imposes restrictions on user code. Can non-invasively wrap user functions with arbitrary signatures?"
   ]
  },
  {
   "cell_type": "code",
   "execution_count": 92,
   "metadata": {},
   "outputs": [
    {
     "name": "stdout",
     "output_type": "stream",
     "text": [
      "6\n"
     ]
    },
    {
     "data": {
      "text/plain": [
       "[]"
      ]
     },
     "execution_count": 92,
     "metadata": {},
     "output_type": "execute_result"
    }
   ],
   "source": [
    "import inspect\n",
    "import functools\n",
    "\n",
    "def dec(func):\n",
    "    @functools.wraps(func)\n",
    "    def inner(bound_args):\n",
    "        return func(**bound_args.arguments)\n",
    "    return inner\n",
    "\n",
    "def multiply(a, b, c=1): \n",
    "    return a * b * c\n",
    " \n",
    "sin = Stream()\n",
    "s2 =  sin.map(dec(multiply))\n",
    "sout = s2.map(print)\n",
    "\n",
    "sin.emit(inspect.signature(multiply).bind(2, 3, c=1))"
   ]
  },
  {
   "cell_type": "markdown",
   "metadata": {},
   "source": [
    "What happens when we chain multiple user functions?"
   ]
  },
  {
   "cell_type": "code",
   "execution_count": 118,
   "metadata": {},
   "outputs": [
    {
     "name": "stdout",
     "output_type": "stream",
     "text": [
      "multiple\n",
      "cts\n",
      "{'img': 1.0, 'mask': array([[ 1.,  1.,  1.],\n",
      "       [ 1.,  1.,  1.],\n",
      "       [ 1.,  1.,  1.]]), 'center': (1, 1)}\n"
     ]
    },
    {
     "data": {
      "text/plain": [
       "[]"
      ]
     },
     "execution_count": 118,
     "metadata": {},
     "output_type": "execute_result"
    }
   ],
   "source": [
    "import inspect\n",
    "import functools\n",
    "import numpy as np\n",
    "\n",
    "def dec(func):\n",
    "    @functools.wraps(func)\n",
    "    def inner(kwargs):\n",
    "        # Pass the kwargs that match the function signature.\n",
    "        params = inspect.signature(func).parameters\n",
    "        ret = func(**{argname: kwargs[argname] for argname in params})\n",
    "        #\n",
    "        first_param, *_ = list(params)\n",
    "        kwargs_copy = kwargs.copy()\n",
    "        kwargs_copy[first_param] = ret\n",
    "        return kwargs_copy\n",
    "    return inner\n",
    "\n",
    "def multiply(img, mask):\n",
    "    print('multiple')\n",
    "    return img*mask\n",
    " \n",
    "def ctsatcenter(img, center):\n",
    "    print('cts')\n",
    "    return img[center]\n",
    "\n",
    "sin = Stream()\n",
    "s2 =  sin.map(dec(multiply))\n",
    "s3 = s2.map(dec(ctsatcenter))\n",
    "sout = s3.map(print)\n",
    " \n",
    "#sin = Stream()\n",
    "#s2 = sin.select(('image', None), ('mask', None))\n",
    "#s_attr = sin.get_attributes().select('beam_origin')\n",
    "#s3 = s2.merge(s_attr)\n",
    "#s4 = s3.map(ctsatcenter)\n",
    "#s4.map(print) # sink to printing the result\n",
    " \n",
    " \n",
    "#sdoc = StreamDoc(kwargs=(dict(image=img1, mask=mask1)), attributes=dict(name=\"Bob\", beam_origin=(100,100)))\n",
    "#sin.emit(sdoc)\n",
    "x = dict(img=np.ones((3, 3)), mask=np.ones((3, 3)), center=(1, 1))\n",
    "sin.emit(x)"
   ]
  }
 ],
 "metadata": {
  "kernelspec": {
   "display_name": "Python 3",
   "language": "python",
   "name": "python3"
  },
  "language_info": {
   "codemirror_mode": {
    "name": "ipython",
    "version": 3
   },
   "file_extension": ".py",
   "mimetype": "text/x-python",
   "name": "python",
   "nbconvert_exporter": "python",
   "pygments_lexer": "ipython3",
   "version": "3.6.1"
  }
 },
 "nbformat": 4,
 "nbformat_minor": 2
}
